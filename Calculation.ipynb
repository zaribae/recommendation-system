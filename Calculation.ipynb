{
 "cells": [
  {
   "cell_type": "code",
   "execution_count": 1,
   "metadata": {},
   "outputs": [],
   "source": [
    "import pandas as pd"
   ]
  },
  {
   "cell_type": "code",
   "execution_count": 2,
   "metadata": {},
   "outputs": [],
   "source": [
    "data = pd.DataFrame({\n",
    "    'lyric': [\n",
    "        \"I heard, that you're settled down That you found a girl and you're, married now I heard, that your dreams came true I guess she gave you things I didn't give to you Old friend, why are you so shy Ain't like you to hold back Or hide from the light I hate to turn up out of the blue uninvited but I Couldn't stay away I couldn't fight it I had hoped you'd see my face And that you be reminded that for me it isn't over Never mind I'll find someone like you I wish nothing but the best For you too, don't forget me I beg, I'll remember you say Sometimes it lasts in love But sometimes it hurts instead Sometimes it lasts in love But sometimes it hurts instead yeah You know how the time flies Only yesterday it was the time of our lives We were born and raised In a summer haze bound by the surprise Of our glory days I hate to turn up out of the blue uninvited but I Couldn't stay away I couldn't fight it I hoped you'd see my face And that you'd be reminded that for me it isn't over Never mind I'll find someone like you I wish nothing but the best for you too Don't forget me I beg, I'll remember you say Sometimes it lasts in love but sometimes it hurts instead Nothing compares no worries or cares Regrets and mistakes their memories made Who would have known how bittersweet This would taste Never mind I'll find someone like you I wish nothing but the best for you Don't forget me I beg, I'll remember you say Sometimes it lasts in love but sometimes it hurts instead Never mind I'll find someone like you I wish nothing but the best for you too Don't forget me I beg, I'll remember you say Sometimes it lasts in love but sometimes it hurts instead Sometimes it lasts in love but sometimes it hurts instead\",\n",
    "        \"Sometimes I don't mind the sunshine Sometimes I need the rain Sometimes I don't mind the fun times Sometimes they're all the same When I'm thinking of you There's a fever around I don't know what to do When I'm drinking to you I get down in my shoes in a waltz with the blues Sometimes I don't mind the sunshine Sometimes I need the rest Sometimes I don't mind a good time Sometimes I do what's best When I'm thinking of you There's a feeling inside which is long overdue When I'm drinking to you I get down in the mouth tell me what can I do Sometimes I don't mind the sunshine Sometimes I need the change Sometimes don't mind a fun time To me it's all the same When I'm thinking of you There's a fever around I don't know what to do When I'm drinking to you I get down in my shoes in a waltz with the blues\",\n",
    "        \"Oh Yeah! You make me feel so pretty When I'm not feeling so cool today Yeah you pull me out When you know that I'm afraid Something about you It drys up every tear in my way And when I trip myself on the sidewalk You put my boots back on me babe Cause your my cowboy your my everything And you know how to get me Sometimes I'm feeling up sometimes I'm down You lift my feet up off the ground Sometimes I'm moving fast sometimes I'm slow You know where to make me go Sometimes I am the happy girl you love Sometimes I don't feel good enough Sometimes sometimes oh Your there when I need you Sometimes uh oh uh oh When I need you Sometimes uh oh uh oh I ask myself this question About you that I can not explain How you ride with me When you know that I'm to blame You've proved your love I Don't need to hear the words that you say But I know you say them anyway Just to keep me feeling safe As my worries become a yesterday Baby you get me Sometimes I'm feeling up sometimes I'm down You lift my feet up off the ground Sometimes I'm moving fast sometimes I'm slow You know where to make me go Sometimes I am the happy girl you love Sometimes I don't feel good enough Sometimes sometimes oh Your there when I need you Sometimes uh oh uh oh When I need you Sometimes uh oh uh oh And my worries become a yesterday Cause baby you know I'm...\",\n",
    "        \"Oh, how I wish that they would last Moments of peace that just slip through me so fast Just when I think that they are gonna stay Everything inside me just starts fading away Sometimes it seems like all I hope for Just gets thrown down on the floor And then it seems like you don't love me anymore Sometimes I wish that I could run away Sometimes I wish I just had something to say He looks at me and doesn't know the words to say But it's not you, I just don't feel quite right today All these things I say and do were never planned But how the fuck am I supposed to make you understand that Sometimes it seems like all I hope for Just gets thrown down on the floor And then it seems like you don't love me anymore Sometimes I wish that I could run away Sometimes I wish I just had something to say\"\n",
    "        \n",
    "    ],\n",
    "})\n",
    "\n",
    "# data = pd.DataFrame({\n",
    "#     'lyric': [\n",
    "#         \"Apakabar kereta yang terkapar di senin pagi Di gerbongmu ratusan orang yang mati Hancurkan mimpi bawa kisah Air mata\"\n",
    "#     ],\n",
    "# })"
   ]
  },
  {
   "cell_type": "code",
   "execution_count": 3,
   "metadata": {},
   "outputs": [
    {
     "name": "stdout",
     "output_type": "stream",
     "text": [
      "i heard, that you're settled down that you found a girl and you're, married now i heard, that your dreams came true i guess she gave you things i didn't give to you old friend, why are you so shy ain't like you to hold back or hide from the light i hate to turn up out of the blue uninvited but i couldn't stay away i couldn't fight it i had hoped you'd see my face and that you be reminded that for me it isn't over never mind i'll find someone like you i wish nothing but the best for you too, don't forget me i beg, i'll remember you say sometimes it lasts in love but sometimes it hurts instead sometimes it lasts in love but sometimes it hurts instead yeah you know how the time flies only yesterday it was the time of our lives we were born and raised in a summer haze bound by the surprise of our glory days i hate to turn up out of the blue uninvited but i couldn't stay away i couldn't fight it i hoped you'd see my face and that you'd be reminded that for me it isn't over never mind i'll find someone like you i wish nothing but the best for you too don't forget me i beg, i'll remember you say sometimes it lasts in love but sometimes it hurts instead nothing compares no worries or cares regrets and mistakes their memories made who would have known how bittersweet this would taste never mind i'll find someone like you i wish nothing but the best for you don't forget me i beg, i'll remember you say sometimes it lasts in love but sometimes it hurts instead never mind i'll find someone like you i wish nothing but the best for you too don't forget me i beg, i'll remember you say sometimes it lasts in love but sometimes it hurts instead sometimes it lasts in love but sometimes it hurts instead\n"
     ]
    }
   ],
   "source": [
    "lyric = data['lyric'].str.lower().replace(r'^\\w\\s', ' ').replace(r'^\\r\\n', ' ', regex = True)\n",
    "# df_songs\n",
    "print(lyric[0])"
   ]
  },
  {
   "cell_type": "code",
   "execution_count": 4,
   "metadata": {},
   "outputs": [],
   "source": [
    "import nltk\n",
    "# nltk.download('punkt_tab')\n",
    "# from nltk.stem.porter import PorterStemmer\n",
    "# nltk.download('wordnet')\n",
    "from nltk.stem import WordNetLemmatizer\n",
    "stemmer = WordNetLemmatizer()\n",
    "\n",
    "def tokenization(txt):\n",
    "    tokens = nltk.word_tokenize(txt)\n",
    "    stemming = [stemmer.lemmatize(w) for w in tokens]\n",
    "    print(tokens)\n",
    "    return \" \".join(stemming)"
   ]
  },
  {
   "cell_type": "code",
   "execution_count": 5,
   "metadata": {},
   "outputs": [
    {
     "name": "stdout",
     "output_type": "stream",
     "text": [
      "['i', 'heard', ',', 'that', 'you', \"'re\", 'settled', 'down', 'that', 'you', 'found', 'a', 'girl', 'and', 'you', \"'re\", ',', 'married', 'now', 'i', 'heard', ',', 'that', 'your', 'dreams', 'came', 'true', 'i', 'guess', 'she', 'gave', 'you', 'things', 'i', 'did', \"n't\", 'give', 'to', 'you', 'old', 'friend', ',', 'why', 'are', 'you', 'so', 'shy', 'ai', \"n't\", 'like', 'you', 'to', 'hold', 'back', 'or', 'hide', 'from', 'the', 'light', 'i', 'hate', 'to', 'turn', 'up', 'out', 'of', 'the', 'blue', 'uninvited', 'but', 'i', 'could', \"n't\", 'stay', 'away', 'i', 'could', \"n't\", 'fight', 'it', 'i', 'had', 'hoped', 'you', \"'d\", 'see', 'my', 'face', 'and', 'that', 'you', 'be', 'reminded', 'that', 'for', 'me', 'it', 'is', \"n't\", 'over', 'never', 'mind', 'i', \"'ll\", 'find', 'someone', 'like', 'you', 'i', 'wish', 'nothing', 'but', 'the', 'best', 'for', 'you', 'too', ',', 'do', \"n't\", 'forget', 'me', 'i', 'beg', ',', 'i', \"'ll\", 'remember', 'you', 'say', 'sometimes', 'it', 'lasts', 'in', 'love', 'but', 'sometimes', 'it', 'hurts', 'instead', 'sometimes', 'it', 'lasts', 'in', 'love', 'but', 'sometimes', 'it', 'hurts', 'instead', 'yeah', 'you', 'know', 'how', 'the', 'time', 'flies', 'only', 'yesterday', 'it', 'was', 'the', 'time', 'of', 'our', 'lives', 'we', 'were', 'born', 'and', 'raised', 'in', 'a', 'summer', 'haze', 'bound', 'by', 'the', 'surprise', 'of', 'our', 'glory', 'days', 'i', 'hate', 'to', 'turn', 'up', 'out', 'of', 'the', 'blue', 'uninvited', 'but', 'i', 'could', \"n't\", 'stay', 'away', 'i', 'could', \"n't\", 'fight', 'it', 'i', 'hoped', 'you', \"'d\", 'see', 'my', 'face', 'and', 'that', 'you', \"'d\", 'be', 'reminded', 'that', 'for', 'me', 'it', 'is', \"n't\", 'over', 'never', 'mind', 'i', \"'ll\", 'find', 'someone', 'like', 'you', 'i', 'wish', 'nothing', 'but', 'the', 'best', 'for', 'you', 'too', 'do', \"n't\", 'forget', 'me', 'i', 'beg', ',', 'i', \"'ll\", 'remember', 'you', 'say', 'sometimes', 'it', 'lasts', 'in', 'love', 'but', 'sometimes', 'it', 'hurts', 'instead', 'nothing', 'compares', 'no', 'worries', 'or', 'cares', 'regrets', 'and', 'mistakes', 'their', 'memories', 'made', 'who', 'would', 'have', 'known', 'how', 'bittersweet', 'this', 'would', 'taste', 'never', 'mind', 'i', \"'ll\", 'find', 'someone', 'like', 'you', 'i', 'wish', 'nothing', 'but', 'the', 'best', 'for', 'you', 'do', \"n't\", 'forget', 'me', 'i', 'beg', ',', 'i', \"'ll\", 'remember', 'you', 'say', 'sometimes', 'it', 'lasts', 'in', 'love', 'but', 'sometimes', 'it', 'hurts', 'instead', 'never', 'mind', 'i', \"'ll\", 'find', 'someone', 'like', 'you', 'i', 'wish', 'nothing', 'but', 'the', 'best', 'for', 'you', 'too', 'do', \"n't\", 'forget', 'me', 'i', 'beg', ',', 'i', \"'ll\", 'remember', 'you', 'say', 'sometimes', 'it', 'lasts', 'in', 'love', 'but', 'sometimes', 'it', 'hurts', 'instead', 'sometimes', 'it', 'lasts', 'in', 'love', 'but', 'sometimes', 'it', 'hurts', 'instead']\n",
      "['sometimes', 'i', 'do', \"n't\", 'mind', 'the', 'sunshine', 'sometimes', 'i', 'need', 'the', 'rain', 'sometimes', 'i', 'do', \"n't\", 'mind', 'the', 'fun', 'times', 'sometimes', 'they', \"'re\", 'all', 'the', 'same', 'when', 'i', \"'m\", 'thinking', 'of', 'you', 'there', \"'s\", 'a', 'fever', 'around', 'i', 'do', \"n't\", 'know', 'what', 'to', 'do', 'when', 'i', \"'m\", 'drinking', 'to', 'you', 'i', 'get', 'down', 'in', 'my', 'shoes', 'in', 'a', 'waltz', 'with', 'the', 'blues', 'sometimes', 'i', 'do', \"n't\", 'mind', 'the', 'sunshine', 'sometimes', 'i', 'need', 'the', 'rest', 'sometimes', 'i', 'do', \"n't\", 'mind', 'a', 'good', 'time', 'sometimes', 'i', 'do', 'what', \"'s\", 'best', 'when', 'i', \"'m\", 'thinking', 'of', 'you', 'there', \"'s\", 'a', 'feeling', 'inside', 'which', 'is', 'long', 'overdue', 'when', 'i', \"'m\", 'drinking', 'to', 'you', 'i', 'get', 'down', 'in', 'the', 'mouth', 'tell', 'me', 'what', 'can', 'i', 'do', 'sometimes', 'i', 'do', \"n't\", 'mind', 'the', 'sunshine', 'sometimes', 'i', 'need', 'the', 'change', 'sometimes', 'do', \"n't\", 'mind', 'a', 'fun', 'time', 'to', 'me', 'it', \"'s\", 'all', 'the', 'same', 'when', 'i', \"'m\", 'thinking', 'of', 'you', 'there', \"'s\", 'a', 'fever', 'around', 'i', 'do', \"n't\", 'know', 'what', 'to', 'do', 'when', 'i', \"'m\", 'drinking', 'to', 'you', 'i', 'get', 'down', 'in', 'my', 'shoes', 'in', 'a', 'waltz', 'with', 'the', 'blues']\n",
      "['oh', 'yeah', '!', 'you', 'make', 'me', 'feel', 'so', 'pretty', 'when', 'i', \"'m\", 'not', 'feeling', 'so', 'cool', 'today', 'yeah', 'you', 'pull', 'me', 'out', 'when', 'you', 'know', 'that', 'i', \"'m\", 'afraid', 'something', 'about', 'you', 'it', 'drys', 'up', 'every', 'tear', 'in', 'my', 'way', 'and', 'when', 'i', 'trip', 'myself', 'on', 'the', 'sidewalk', 'you', 'put', 'my', 'boots', 'back', 'on', 'me', 'babe', 'cause', 'your', 'my', 'cowboy', 'your', 'my', 'everything', 'and', 'you', 'know', 'how', 'to', 'get', 'me', 'sometimes', 'i', \"'m\", 'feeling', 'up', 'sometimes', 'i', \"'m\", 'down', 'you', 'lift', 'my', 'feet', 'up', 'off', 'the', 'ground', 'sometimes', 'i', \"'m\", 'moving', 'fast', 'sometimes', 'i', \"'m\", 'slow', 'you', 'know', 'where', 'to', 'make', 'me', 'go', 'sometimes', 'i', 'am', 'the', 'happy', 'girl', 'you', 'love', 'sometimes', 'i', 'do', \"n't\", 'feel', 'good', 'enough', 'sometimes', 'sometimes', 'oh', 'your', 'there', 'when', 'i', 'need', 'you', 'sometimes', 'uh', 'oh', 'uh', 'oh', 'when', 'i', 'need', 'you', 'sometimes', 'uh', 'oh', 'uh', 'oh', 'i', 'ask', 'myself', 'this', 'question', 'about', 'you', 'that', 'i', 'can', 'not', 'explain', 'how', 'you', 'ride', 'with', 'me', 'when', 'you', 'know', 'that', 'i', \"'m\", 'to', 'blame', 'you', \"'ve\", 'proved', 'your', 'love', 'i', 'do', \"n't\", 'need', 'to', 'hear', 'the', 'words', 'that', 'you', 'say', 'but', 'i', 'know', 'you', 'say', 'them', 'anyway', 'just', 'to', 'keep', 'me', 'feeling', 'safe', 'as', 'my', 'worries', 'become', 'a', 'yesterday', 'baby', 'you', 'get', 'me', 'sometimes', 'i', \"'m\", 'feeling', 'up', 'sometimes', 'i', \"'m\", 'down', 'you', 'lift', 'my', 'feet', 'up', 'off', 'the', 'ground', 'sometimes', 'i', \"'m\", 'moving', 'fast', 'sometimes', 'i', \"'m\", 'slow', 'you', 'know', 'where', 'to', 'make', 'me', 'go', 'sometimes', 'i', 'am', 'the', 'happy', 'girl', 'you', 'love', 'sometimes', 'i', 'do', \"n't\", 'feel', 'good', 'enough', 'sometimes', 'sometimes', 'oh', 'your', 'there', 'when', 'i', 'need', 'you', 'sometimes', 'uh', 'oh', 'uh', 'oh', 'when', 'i', 'need', 'you', 'sometimes', 'uh', 'oh', 'uh', 'oh', 'and', 'my', 'worries', 'become', 'a', 'yesterday', 'cause', 'baby', 'you', 'know', 'i', \"'m\", '...']\n",
      "['oh', ',', 'how', 'i', 'wish', 'that', 'they', 'would', 'last', 'moments', 'of', 'peace', 'that', 'just', 'slip', 'through', 'me', 'so', 'fast', 'just', 'when', 'i', 'think', 'that', 'they', 'are', 'gon', 'na', 'stay', 'everything', 'inside', 'me', 'just', 'starts', 'fading', 'away', 'sometimes', 'it', 'seems', 'like', 'all', 'i', 'hope', 'for', 'just', 'gets', 'thrown', 'down', 'on', 'the', 'floor', 'and', 'then', 'it', 'seems', 'like', 'you', 'do', \"n't\", 'love', 'me', 'anymore', 'sometimes', 'i', 'wish', 'that', 'i', 'could', 'run', 'away', 'sometimes', 'i', 'wish', 'i', 'just', 'had', 'something', 'to', 'say', 'he', 'looks', 'at', 'me', 'and', 'does', \"n't\", 'know', 'the', 'words', 'to', 'say', 'but', 'it', \"'s\", 'not', 'you', ',', 'i', 'just', 'do', \"n't\", 'feel', 'quite', 'right', 'today', 'all', 'these', 'things', 'i', 'say', 'and', 'do', 'were', 'never', 'planned', 'but', 'how', 'the', 'fuck', 'am', 'i', 'supposed', 'to', 'make', 'you', 'understand', 'that', 'sometimes', 'it', 'seems', 'like', 'all', 'i', 'hope', 'for', 'just', 'gets', 'thrown', 'down', 'on', 'the', 'floor', 'and', 'then', 'it', 'seems', 'like', 'you', 'do', \"n't\", 'love', 'me', 'anymore', 'sometimes', 'i', 'wish', 'that', 'i', 'could', 'run', 'away', 'sometimes', 'i', 'wish', 'i', 'just', 'had', 'something', 'to', 'say']\n"
     ]
    }
   ],
   "source": [
    "tokens = lyric.apply(lambda x: tokenization(x))"
   ]
  },
  {
   "cell_type": "code",
   "execution_count": 8,
   "metadata": {},
   "outputs": [
    {
     "name": "stdout",
     "output_type": "stream",
     "text": [
      "oh yeah ! you make me feel so pretty when i 'm not feeling so cool today yeah you pull me out when you know that i 'm afraid something about you it dry up every tear in my way and when i trip myself on the sidewalk you put my boot back on me babe cause your my cowboy your my everything and you know how to get me sometimes i 'm feeling up sometimes i 'm down you lift my foot up off the ground sometimes i 'm moving fast sometimes i 'm slow you know where to make me go sometimes i am the happy girl you love sometimes i do n't feel good enough sometimes sometimes oh your there when i need you sometimes uh oh uh oh when i need you sometimes uh oh uh oh i ask myself this question about you that i can not explain how you ride with me when you know that i 'm to blame you 've proved your love i do n't need to hear the word that you say but i know you say them anyway just to keep me feeling safe a my worry become a yesterday baby you get me sometimes i 'm feeling up sometimes i 'm down you lift my foot up off the ground sometimes i 'm moving fast sometimes i 'm slow you know where to make me go sometimes i am the happy girl you love sometimes i do n't feel good enough sometimes sometimes oh your there when i need you sometimes uh oh uh oh when i need you sometimes uh oh uh oh and my worry become a yesterday cause baby you know i 'm ...\n"
     ]
    }
   ],
   "source": [
    "print(tokens[3])"
   ]
  },
  {
   "cell_type": "code",
   "execution_count": 7,
   "metadata": {},
   "outputs": [],
   "source": [
    "from sklearn.feature_extraction.text import TfidfVectorizer\n",
    "from sklearn.metrics.pairwise import cosine_similarity\n",
    "from sklearn.metrics import confusion_matrix\n",
    "import numpy as np"
   ]
  },
  {
   "cell_type": "code",
   "execution_count": 8,
   "metadata": {},
   "outputs": [],
   "source": [
    "tfidvector = TfidfVectorizer(analyzer='word',stop_words='english')\n",
    "matrix = tfidvector.fit_transform(tokens)\n",
    "similarity = cosine_similarity(matrix)"
   ]
  },
  {
   "cell_type": "code",
   "execution_count": 9,
   "metadata": {},
   "outputs": [
    {
     "name": "stdout",
     "output_type": "stream",
     "text": [
      "<Compressed Sparse Row sparse matrix of dtype 'float64'\n",
      "\twith 17 stored elements and shape (1, 17)>\n",
      "  Coords\tValues\n",
      "  (0, 1)\t0.20851441405707477\n",
      "  (0, 6)\t0.20851441405707477\n",
      "  (0, 16)\t0.41702882811414954\n",
      "  (0, 15)\t0.20851441405707477\n",
      "  (0, 3)\t0.41702882811414954\n",
      "  (0, 14)\t0.20851441405707477\n",
      "  (0, 12)\t0.20851441405707477\n",
      "  (0, 4)\t0.20851441405707477\n",
      "  (0, 13)\t0.20851441405707477\n",
      "  (0, 11)\t0.20851441405707477\n",
      "  (0, 9)\t0.20851441405707477\n",
      "  (0, 5)\t0.20851441405707477\n",
      "  (0, 10)\t0.20851441405707477\n",
      "  (0, 2)\t0.20851441405707477\n",
      "  (0, 7)\t0.20851441405707477\n",
      "  (0, 0)\t0.20851441405707477\n",
      "  (0, 8)\t0.20851441405707477\n"
     ]
    }
   ],
   "source": [
    "print(matrix)"
   ]
  },
  {
   "cell_type": "code",
   "execution_count": 10,
   "metadata": {},
   "outputs": [
    {
     "ename": "PermissionError",
     "evalue": "[Errno 13] Permission denied: 'output_similarity.xlsx'",
     "output_type": "error",
     "traceback": [
      "\u001b[1;31m---------------------------------------------------------------------------\u001b[0m",
      "\u001b[1;31mPermissionError\u001b[0m                           Traceback (most recent call last)",
      "\u001b[1;32me:\\KULIAH ZARI\\skripsi\\Program\\Music_Recommender_System\\Calculation.ipynb Cell 10\u001b[0m line \u001b[0;36m4\n\u001b[0;32m      <a href='vscode-notebook-cell:/e%3A/KULIAH%20ZARI/skripsi/Program/Music_Recommender_System/Calculation.ipynb#X12sZmlsZQ%3D%3D?line=1'>2</a>\u001b[0m df_count_similarity \u001b[39m=\u001b[39m pd\u001b[39m.\u001b[39mDataFrame(similarity)\n\u001b[0;32m      <a href='vscode-notebook-cell:/e%3A/KULIAH%20ZARI/skripsi/Program/Music_Recommender_System/Calculation.ipynb#X12sZmlsZQ%3D%3D?line=2'>3</a>\u001b[0m df_count_matrix\u001b[39m.\u001b[39mto_excel(\u001b[39m\"\u001b[39m\u001b[39moutput_tfidf.xlsx\u001b[39m\u001b[39m\"\u001b[39m, engine\u001b[39m=\u001b[39m\u001b[39m'\u001b[39m\u001b[39mopenpyxl\u001b[39m\u001b[39m'\u001b[39m)\n\u001b[1;32m----> <a href='vscode-notebook-cell:/e%3A/KULIAH%20ZARI/skripsi/Program/Music_Recommender_System/Calculation.ipynb#X12sZmlsZQ%3D%3D?line=3'>4</a>\u001b[0m df_count_similarity\u001b[39m.\u001b[39;49mto_excel(\u001b[39m\"\u001b[39;49m\u001b[39moutput_similarity.xlsx\u001b[39;49m\u001b[39m\"\u001b[39;49m, engine\u001b[39m=\u001b[39;49m\u001b[39m'\u001b[39;49m\u001b[39mopenpyxl\u001b[39;49m\u001b[39m'\u001b[39;49m)\n",
      "File \u001b[1;32me:\\KULIAH ZARI\\skripsi\\Program\\Music_Recommender_System\\project\\Lib\\site-packages\\pandas\\util\\_decorators.py:333\u001b[0m, in \u001b[0;36mdeprecate_nonkeyword_arguments.<locals>.decorate.<locals>.wrapper\u001b[1;34m(*args, **kwargs)\u001b[0m\n\u001b[0;32m    327\u001b[0m \u001b[39mif\u001b[39;00m \u001b[39mlen\u001b[39m(args) \u001b[39m>\u001b[39m num_allow_args:\n\u001b[0;32m    328\u001b[0m     warnings\u001b[39m.\u001b[39mwarn(\n\u001b[0;32m    329\u001b[0m         msg\u001b[39m.\u001b[39mformat(arguments\u001b[39m=\u001b[39m_format_argument_list(allow_args)),\n\u001b[0;32m    330\u001b[0m         \u001b[39mFutureWarning\u001b[39;00m,\n\u001b[0;32m    331\u001b[0m         stacklevel\u001b[39m=\u001b[39mfind_stack_level(),\n\u001b[0;32m    332\u001b[0m     )\n\u001b[1;32m--> 333\u001b[0m \u001b[39mreturn\u001b[39;00m func(\u001b[39m*\u001b[39;49margs, \u001b[39m*\u001b[39;49m\u001b[39m*\u001b[39;49mkwargs)\n",
      "File \u001b[1;32me:\\KULIAH ZARI\\skripsi\\Program\\Music_Recommender_System\\project\\Lib\\site-packages\\pandas\\core\\generic.py:2417\u001b[0m, in \u001b[0;36mNDFrame.to_excel\u001b[1;34m(self, excel_writer, sheet_name, na_rep, float_format, columns, header, index, index_label, startrow, startcol, engine, merge_cells, inf_rep, freeze_panes, storage_options, engine_kwargs)\u001b[0m\n\u001b[0;32m   2404\u001b[0m \u001b[39mfrom\u001b[39;00m \u001b[39mpandas\u001b[39;00m\u001b[39m.\u001b[39;00m\u001b[39mio\u001b[39;00m\u001b[39m.\u001b[39;00m\u001b[39mformats\u001b[39;00m\u001b[39m.\u001b[39;00m\u001b[39mexcel\u001b[39;00m \u001b[39mimport\u001b[39;00m ExcelFormatter\n\u001b[0;32m   2406\u001b[0m formatter \u001b[39m=\u001b[39m ExcelFormatter(\n\u001b[0;32m   2407\u001b[0m     df,\n\u001b[0;32m   2408\u001b[0m     na_rep\u001b[39m=\u001b[39mna_rep,\n\u001b[1;32m   (...)\u001b[0m\n\u001b[0;32m   2415\u001b[0m     inf_rep\u001b[39m=\u001b[39minf_rep,\n\u001b[0;32m   2416\u001b[0m )\n\u001b[1;32m-> 2417\u001b[0m formatter\u001b[39m.\u001b[39;49mwrite(\n\u001b[0;32m   2418\u001b[0m     excel_writer,\n\u001b[0;32m   2419\u001b[0m     sheet_name\u001b[39m=\u001b[39;49msheet_name,\n\u001b[0;32m   2420\u001b[0m     startrow\u001b[39m=\u001b[39;49mstartrow,\n\u001b[0;32m   2421\u001b[0m     startcol\u001b[39m=\u001b[39;49mstartcol,\n\u001b[0;32m   2422\u001b[0m     freeze_panes\u001b[39m=\u001b[39;49mfreeze_panes,\n\u001b[0;32m   2423\u001b[0m     engine\u001b[39m=\u001b[39;49mengine,\n\u001b[0;32m   2424\u001b[0m     storage_options\u001b[39m=\u001b[39;49mstorage_options,\n\u001b[0;32m   2425\u001b[0m     engine_kwargs\u001b[39m=\u001b[39;49mengine_kwargs,\n\u001b[0;32m   2426\u001b[0m )\n",
      "File \u001b[1;32me:\\KULIAH ZARI\\skripsi\\Program\\Music_Recommender_System\\project\\Lib\\site-packages\\pandas\\io\\formats\\excel.py:943\u001b[0m, in \u001b[0;36mExcelFormatter.write\u001b[1;34m(self, writer, sheet_name, startrow, startcol, freeze_panes, engine, storage_options, engine_kwargs)\u001b[0m\n\u001b[0;32m    941\u001b[0m     need_save \u001b[39m=\u001b[39m \u001b[39mFalse\u001b[39;00m\n\u001b[0;32m    942\u001b[0m \u001b[39melse\u001b[39;00m:\n\u001b[1;32m--> 943\u001b[0m     writer \u001b[39m=\u001b[39m ExcelWriter(\n\u001b[0;32m    944\u001b[0m         writer,\n\u001b[0;32m    945\u001b[0m         engine\u001b[39m=\u001b[39;49mengine,\n\u001b[0;32m    946\u001b[0m         storage_options\u001b[39m=\u001b[39;49mstorage_options,\n\u001b[0;32m    947\u001b[0m         engine_kwargs\u001b[39m=\u001b[39;49mengine_kwargs,\n\u001b[0;32m    948\u001b[0m     )\n\u001b[0;32m    949\u001b[0m     need_save \u001b[39m=\u001b[39m \u001b[39mTrue\u001b[39;00m\n\u001b[0;32m    951\u001b[0m \u001b[39mtry\u001b[39;00m:\n",
      "File \u001b[1;32me:\\KULIAH ZARI\\skripsi\\Program\\Music_Recommender_System\\project\\Lib\\site-packages\\pandas\\io\\excel\\_openpyxl.py:61\u001b[0m, in \u001b[0;36mOpenpyxlWriter.__init__\u001b[1;34m(self, path, engine, date_format, datetime_format, mode, storage_options, if_sheet_exists, engine_kwargs, **kwargs)\u001b[0m\n\u001b[0;32m     57\u001b[0m \u001b[39mfrom\u001b[39;00m \u001b[39mopenpyxl\u001b[39;00m\u001b[39m.\u001b[39;00m\u001b[39mworkbook\u001b[39;00m \u001b[39mimport\u001b[39;00m Workbook\n\u001b[0;32m     59\u001b[0m engine_kwargs \u001b[39m=\u001b[39m combine_kwargs(engine_kwargs, kwargs)\n\u001b[1;32m---> 61\u001b[0m \u001b[39msuper\u001b[39;49m()\u001b[39m.\u001b[39;49m\u001b[39m__init__\u001b[39;49m(\n\u001b[0;32m     62\u001b[0m     path,\n\u001b[0;32m     63\u001b[0m     mode\u001b[39m=\u001b[39;49mmode,\n\u001b[0;32m     64\u001b[0m     storage_options\u001b[39m=\u001b[39;49mstorage_options,\n\u001b[0;32m     65\u001b[0m     if_sheet_exists\u001b[39m=\u001b[39;49mif_sheet_exists,\n\u001b[0;32m     66\u001b[0m     engine_kwargs\u001b[39m=\u001b[39;49mengine_kwargs,\n\u001b[0;32m     67\u001b[0m )\n\u001b[0;32m     69\u001b[0m \u001b[39m# ExcelWriter replaced \"a\" by \"r+\" to allow us to first read the excel file from\u001b[39;00m\n\u001b[0;32m     70\u001b[0m \u001b[39m# the file and later write to it\u001b[39;00m\n\u001b[0;32m     71\u001b[0m \u001b[39mif\u001b[39;00m \u001b[39m\"\u001b[39m\u001b[39mr+\u001b[39m\u001b[39m\"\u001b[39m \u001b[39min\u001b[39;00m \u001b[39mself\u001b[39m\u001b[39m.\u001b[39m_mode:  \u001b[39m# Load from existing workbook\u001b[39;00m\n",
      "File \u001b[1;32me:\\KULIAH ZARI\\skripsi\\Program\\Music_Recommender_System\\project\\Lib\\site-packages\\pandas\\io\\excel\\_base.py:1246\u001b[0m, in \u001b[0;36mExcelWriter.__init__\u001b[1;34m(self, path, engine, date_format, datetime_format, mode, storage_options, if_sheet_exists, engine_kwargs)\u001b[0m\n\u001b[0;32m   1242\u001b[0m \u001b[39mself\u001b[39m\u001b[39m.\u001b[39m_handles \u001b[39m=\u001b[39m IOHandles(\n\u001b[0;32m   1243\u001b[0m     cast(IO[\u001b[39mbytes\u001b[39m], path), compression\u001b[39m=\u001b[39m{\u001b[39m\"\u001b[39m\u001b[39mcompression\u001b[39m\u001b[39m\"\u001b[39m: \u001b[39mNone\u001b[39;00m}\n\u001b[0;32m   1244\u001b[0m )\n\u001b[0;32m   1245\u001b[0m \u001b[39mif\u001b[39;00m \u001b[39mnot\u001b[39;00m \u001b[39misinstance\u001b[39m(path, ExcelWriter):\n\u001b[1;32m-> 1246\u001b[0m     \u001b[39mself\u001b[39m\u001b[39m.\u001b[39m_handles \u001b[39m=\u001b[39m get_handle(\n\u001b[0;32m   1247\u001b[0m         path, mode, storage_options\u001b[39m=\u001b[39;49mstorage_options, is_text\u001b[39m=\u001b[39;49m\u001b[39mFalse\u001b[39;49;00m\n\u001b[0;32m   1248\u001b[0m     )\n\u001b[0;32m   1249\u001b[0m \u001b[39mself\u001b[39m\u001b[39m.\u001b[39m_cur_sheet \u001b[39m=\u001b[39m \u001b[39mNone\u001b[39;00m\n\u001b[0;32m   1251\u001b[0m \u001b[39mif\u001b[39;00m date_format \u001b[39mis\u001b[39;00m \u001b[39mNone\u001b[39;00m:\n",
      "File \u001b[1;32me:\\KULIAH ZARI\\skripsi\\Program\\Music_Recommender_System\\project\\Lib\\site-packages\\pandas\\io\\common.py:882\u001b[0m, in \u001b[0;36mget_handle\u001b[1;34m(path_or_buf, mode, encoding, compression, memory_map, is_text, errors, storage_options)\u001b[0m\n\u001b[0;32m    873\u001b[0m         handle \u001b[39m=\u001b[39m \u001b[39mopen\u001b[39m(\n\u001b[0;32m    874\u001b[0m             handle,\n\u001b[0;32m    875\u001b[0m             ioargs\u001b[39m.\u001b[39mmode,\n\u001b[1;32m   (...)\u001b[0m\n\u001b[0;32m    878\u001b[0m             newline\u001b[39m=\u001b[39m\u001b[39m\"\u001b[39m\u001b[39m\"\u001b[39m,\n\u001b[0;32m    879\u001b[0m         )\n\u001b[0;32m    880\u001b[0m     \u001b[39melse\u001b[39;00m:\n\u001b[0;32m    881\u001b[0m         \u001b[39m# Binary mode\u001b[39;00m\n\u001b[1;32m--> 882\u001b[0m         handle \u001b[39m=\u001b[39m \u001b[39mopen\u001b[39;49m(handle, ioargs\u001b[39m.\u001b[39;49mmode)\n\u001b[0;32m    883\u001b[0m     handles\u001b[39m.\u001b[39mappend(handle)\n\u001b[0;32m    885\u001b[0m \u001b[39m# Convert BytesIO or file objects passed with an encoding\u001b[39;00m\n",
      "\u001b[1;31mPermissionError\u001b[0m: [Errno 13] Permission denied: 'output_similarity.xlsx'"
     ]
    }
   ],
   "source": [
    "df_count_matrix = pd.DataFrame.sparse.from_spmatrix(matrix, columns=tfidvector.get_feature_names_out())\n",
    "df_count_similarity = pd.DataFrame(similarity)\n",
    "df_count_matrix.to_excel(\"output_tfidf.xlsx\", engine='openpyxl')\n",
    "df_count_similarity.to_excel(\"output_similarity.xlsx\", engine='openpyxl')"
   ]
  }
 ],
 "metadata": {
  "kernelspec": {
   "display_name": "project",
   "language": "python",
   "name": "python3"
  },
  "language_info": {
   "codemirror_mode": {
    "name": "ipython",
    "version": 3
   },
   "file_extension": ".py",
   "mimetype": "text/x-python",
   "name": "python",
   "nbconvert_exporter": "python",
   "pygments_lexer": "ipython3",
   "version": "3.12.0"
  },
  "orig_nbformat": 4
 },
 "nbformat": 4,
 "nbformat_minor": 2
}
